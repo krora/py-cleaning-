{
 "cells": [
  {
   "cell_type": "markdown",
   "metadata": {},
   "source": [
    "# [Your Name] [Your ID]\n",
    "## Data Science 201\n",
    "## Assignment 3"
   ]
  },
  {
   "cell_type": "code",
   "execution_count": 80,
   "metadata": {
    "collapsed": false
   },
   "outputs": [],
   "source": [
    "# Run this cell to load the data\n",
    "# IMPORTANT: You must download persons_of_concern.csv and place it in the same directory\n",
    "# as this notebook for this to work!\n",
    "\n",
    "import csv\n",
    "with open('persons_of_concern.csv', 'r') as f:\n",
    "    reader = csv.DictReader(f)\n",
    "    \n",
    "    raw_records = [rec for rec in reader]"
   ]
  },
  {
   "cell_type": "code",
   "execution_count": 81,
   "metadata": {
    "collapsed": false
   },
   "outputs": [],
   "source": [
    "# Define the class RefugeeStats here\n",
    "class RefugeeStats:\n",
    "    def __init__(self, records):\n",
    "        #print(records[0])\n",
    "        self.records = list(records)\n",
    "        self.rename_fields()\n",
    "        #print(records[0])\n",
    "        self.convert_numbers()\n",
    "        \n",
    "    def rename_fields(self):\n",
    "        for i in range(len(self.records)):\n",
    "            item = self.records[i]            \n",
    "            self.records[i][\"asylum\"] = self.records[i].pop(\"Asylum-seekers (pending cases)\", \"\")\n",
    "            self.records[i][\"country\"] = self.records[i].pop(\"Country / territory of asylum/residence\", \"\")\n",
    "            self.records[i][\"idps\"] = self.records[i].pop(\"Internally displaced persons (IDPs)\", \"\")\n",
    "            self.records[i][\"origin\"] = self.records[i].pop(\"Origin\", \"\")\n",
    "            self.records[i][\"others\"] = self.records[i].pop(\"Others of concern\", \"\")\n",
    "            self.records[i][\"refugees\"] = self.records[i].pop(\"Refugees (incl. refugee-like situations)\", \"\")\n",
    "            self.records[i][\"ret_idps\"] = self.records[i].pop(\"Returned IDPs\", \"\")\n",
    "            self.records[i][\"ret_refugees\"] = self.records[i].pop(\"Returned refugees\", \"\")\n",
    "            self.records[i][\"stateless\"] = self.records[i].pop(\"Stateless persons\", \"\")\n",
    "            self.records[i][\"total\"] = self.records[i].pop(\"Total Population\", \"\")\n",
    "            self.records[i][\"year\"] = self.records[i].pop(\"Year\", \"\")\n",
    "            \n",
    "    def convert_numbers(self):\n",
    "        for i in range(len(self.records)):\n",
    "            for key in self.records[i].keys():\n",
    "                if(self.records[i][key] == None): continue\n",
    "                s = self.records[i][key].strip()\n",
    "                if s == \"*\": self.records[i][key] = 4 \n",
    "                elif s == \"\": self.records[i][key] = 0\n",
    "                elif s.isdigit(): self.records[i][key] = int(s)\n",
    "                    \n",
    "    def get_destinations(self, origin):\n",
    "        result = []\n",
    "        for i in range(len(self.records)):\n",
    "            if self.records[i][\"origin\"] == origin:\n",
    "                if self.records[i][\"country\"] not in result:\n",
    "                    result.append(self.records[i][\"country\"])\n",
    "        return sorted(result)\n",
    "    \n",
    "    def total_diff(self, country, origin, year):\n",
    "        total = 0\n",
    "        sum = 0\n",
    "        for rec in self.records:\n",
    "            if rec[\"country\"] == country and rec[\"origin\"] == origin and rec[\"year\"] == int(year):\n",
    "                total = rec[\"total\"] \n",
    "                sum = rec[\"asylum\"] + rec[\"idps\"] + rec[\"others\"] + rec[\"refugees\"] + rec[\"ret_idps\"] + rec[\"ret_refugees\"] + rec[\"stateless\"]\n",
    "        return total - sum\n",
    "    \n",
    "    def max_year(self, country):\n",
    "        data = dict()\n",
    "        years = set([rec[\"year\"] for rec in self.records if rec[\"country\"] == country])\n",
    "        for year in years:\n",
    "            for rec in self.records:\n",
    "                if rec[\"country\"] == country and rec[\"year\"] == year:\n",
    "                    if year not in data: data[year] = 0\n",
    "                    data[year] +=  rec[\"asylum\"] + rec[\"refugees\"] + rec[\"ret_refugees\"] + rec[\"idps\"] + rec[\"ret_idps\"] + rec[\"stateless\"] + rec[\"others\"]  \n",
    "        return max([(v,k) for k,v in data.items()])[1]"
   ]
  },
  {
   "cell_type": "code",
   "execution_count": 82,
   "metadata": {
    "collapsed": false
   },
   "outputs": [],
   "source": [
    "# Test the class (Parts 1-3)\n",
    "s = RefugeeStats(raw_records)"
   ]
  },
  {
   "cell_type": "code",
   "execution_count": 83,
   "metadata": {
    "collapsed": false
   },
   "outputs": [
    {
     "data": {
      "text/plain": [
       "['Canada', 'Ukraine', 'United States of America']"
      ]
     },
     "execution_count": 83,
     "metadata": {},
     "output_type": "execute_result"
    }
   ],
   "source": [
    "# Part 4\n",
    "s.get_destinations(\"Turks and Caicos Islands\")"
   ]
  },
  {
   "cell_type": "code",
   "execution_count": 84,
   "metadata": {
    "collapsed": false
   },
   "outputs": [
    {
     "data": {
      "text/plain": [
       "-3"
      ]
     },
     "execution_count": 84,
     "metadata": {},
     "output_type": "execute_result"
    }
   ],
   "source": [
    "# Part 5\n",
    "s.total_diff('Zimbabwe', 'South Africa', '2016')"
   ]
  },
  {
   "cell_type": "code",
   "execution_count": 85,
   "metadata": {
    "collapsed": false
   },
   "outputs": [
    {
     "data": {
      "text/plain": [
       "2009"
      ]
     },
     "execution_count": 85,
     "metadata": {},
     "output_type": "execute_result"
    }
   ],
   "source": [
    "# Extra Credit\n",
    "s.max_year(\"Canada\")"
   ]
  },
  {
   "cell_type": "code",
   "execution_count": null,
   "metadata": {
    "collapsed": true
   },
   "outputs": [],
   "source": []
  },
  {
   "cell_type": "code",
   "execution_count": null,
   "metadata": {
    "collapsed": true
   },
   "outputs": [],
   "source": []
  },
  {
   "cell_type": "code",
   "execution_count": null,
   "metadata": {
    "collapsed": true
   },
   "outputs": [],
   "source": []
  }
 ],
 "metadata": {
  "kernelspec": {
   "display_name": "Python 3",
   "language": "python",
   "name": "python3"
  },
  "language_info": {
   "codemirror_mode": {
    "name": "ipython",
    "version": 3
   },
   "file_extension": ".py",
   "mimetype": "text/x-python",
   "name": "python",
   "nbconvert_exporter": "python",
   "pygments_lexer": "ipython3",
   "version": "3.5.2"
  },
  "widgets": {
   "state": {},
   "version": "1.1.2"
  }
 },
 "nbformat": 4,
 "nbformat_minor": 1
}
